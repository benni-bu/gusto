{
 "cells": [
  {
   "cell_type": "markdown",
   "metadata": {},
   "source": [
    "# Trying out my own PETSc solver in a notebook environment"
   ]
  },
  {
   "cell_type": "code",
   "execution_count": 1,
   "metadata": {},
   "outputs": [],
   "source": [
    "from firedrake.petsc import PETSc\n",
    "import numpy as np\n",
    "from toy_mlprecon import (ToyMLPreconditioner, Laplace1D, Jacobi, GCR)\n",
    "import matplotlib.pyplot as plt"
   ]
  },
  {
   "cell_type": "code",
   "execution_count": 2,
   "metadata": {},
   "outputs": [],
   "source": [
    "def set_ops():\n",
    "    # Set coefficients in the matrix A and RHS vector B\n",
    "    A = PETSc.Mat()\n",
    "    A.create(comm=PETSc.COMM_WORLD)\n",
    "    A.setSizes([100,100])\n",
    "    A.setType(PETSc.Mat.Type.PYTHON)\n",
    "    A.setPythonContext(Laplace1D())\n",
    "    A.setUp()\n",
    "\n",
    "    # Set a right-hand side vector\n",
    "    X, B = A.getVecs()\n",
    "    # control case: vector of ones\n",
    "    vec_in = np.ones(100)\n",
    "\n",
    "    # within dynamic range of training data: superposition of sines\n",
    "    '''\n",
    "    matrix = (2*np.eye(102) - np.eye(102, k=-1) - np.eye(102, k=1))*100**2\n",
    "    xs = np.arange(102, step=1)\n",
    "    a = 0.1 * 0.3\n",
    "    b = 0.05 * -0.4\n",
    "    c = 0.03 * 0.6\n",
    "    d = 0.03 * -0.5\n",
    "    vec_out = (a * np.sin(np.pi/100 * xs) + b * np.sin(np.pi/100 * 2 * xs) + \n",
    "               c * np.sin(np.pi/100 * 3 * xs) + d * np.sin(np.pi/100 * 4 * xs))\n",
    "    vec_in = np.dot(vec_out, matrix)\n",
    "    vec_in = vec_in[1:-1]\n",
    "    vec_out = vec_out[1:-1]\n",
    "    '''\n",
    "    B.setArray(vec_in)\n",
    "\n",
    "    B_array = B.getArray()\n",
    "    print(\"Input RHS vector B:\", B_array)\n",
    "\n",
    "    return A, X, B\n",
    "\n",
    "def solve_linear_system(A, X, B):\n",
    "    # Create a linear solver context\n",
    "    ksp = PETSc.KSP()\n",
    "    ksp.create(comm=PETSc.COMM_WORLD)\n",
    "    ksp.setType(PETSc.KSP.Type.PYTHON)\n",
    "    ksp.setPythonContext(GCR())\n",
    "    #ksp.setType(PETSc.KSP.Type.GCR)\n",
    "    ksp.setTolerances(rtol=1e-5)\n",
    "    #ksp.gcrSetRestart(100)\n",
    "    ksp.setTolerances(max_it=150)\n",
    "\n",
    "    # Set the operator (coefficient matrix) for the linear solver\n",
    "    ksp.setOperators(A, A)\n",
    "    ksp.setFromOptions()\n",
    "\n",
    "    #define the pc so PETSc knows what to do when instantiating the ML context\n",
    "    pc = ksp.getPC()\n",
    "\n",
    "    # Set the preconditioner for the linear solver\n",
    "    pc.setType(PETSc.PC.Type.NONE) #for reference runs without pc\n",
    "    #pc.setType(PETSc.PC.Type.SOR)  #for reference runs with SOR\n",
    "    #pc.setType(PETSc.PC.Type.PYTHON)\n",
    "    #pc.setPythonContext(ToyMLPreconditioner())\n",
    "    #pc.setPythonContext(Jacobi())\n",
    "\n",
    "    ksp.solve(B, X)\n",
    "\n",
    "    # Print the solution vector\n",
    "    X_array = X.getArray()\n",
    "    print(\"Solution vector X:\", X_array)\n",
    "\n",
    "    # print error norm\n",
    "    r = B.duplicate()\n",
    "    A.mult(X, r)\n",
    "    r.aypx(-1, B)\n",
    "    rnorm = r.norm()\n",
    "    PETSc.Sys.Print('error norm = %g' % rnorm,\n",
    "                    comm=PETSc.COMM_WORLD)\n",
    "\n",
    "    # Free resources\n",
    "    ksp.destroy()\n",
    "    A.destroy()\n",
    "    X.destroy()\n",
    "    B.destroy()\n",
    "\n",
    "    plt.plot(X_array)\n",
    "    plt.show()"
   ]
  },
  {
   "cell_type": "code",
   "execution_count": 4,
   "metadata": {},
   "outputs": [
    {
     "name": "stdout",
     "output_type": "stream",
     "text": [
      "Input RHS vector B: [1. 1. 1. 1. 1. 1. 1. 1. 1. 1. 1. 1. 1. 1. 1. 1. 1. 1. 1. 1. 1. 1. 1. 1.\n",
      " 1. 1. 1. 1. 1. 1. 1. 1. 1. 1. 1. 1. 1. 1. 1. 1. 1. 1. 1. 1. 1. 1. 1. 1.\n",
      " 1. 1. 1. 1. 1. 1. 1. 1. 1. 1. 1. 1. 1. 1. 1. 1. 1. 1. 1. 1. 1. 1. 1. 1.\n",
      " 1. 1. 1. 1. 1. 1. 1. 1. 1. 1. 1. 1. 1. 1. 1. 1. 1. 1. 1. 1. 1. 1. 1. 1.\n",
      " 1. 1. 1. 1.]\n",
      "0\n",
      "1\n",
      "-192119201.99999985\n",
      "2\n",
      "-192119203.99999994\n",
      "7.091078973729024e+24\n",
      "3\n",
      "-192119203.99999994\n",
      "7.091078973729024e+24\n",
      "3.5656356392948084e+74\n",
      "4\n",
      "-192119203.99999994\n",
      "7.091078973729024e+24\n",
      "3.5656356392948084e+74\n",
      "4.533262689488557e+223\n",
      "5\n",
      "-192119203.99999994\n",
      "7.091078973729024e+24\n",
      "3.5656356392948084e+74\n",
      "4.533262689488557e+223\n",
      "inf\n"
     ]
    },
    {
     "name": "stderr",
     "output_type": "stream",
     "text": [
      "/Users/GUSTO/environments/firedrake/src/gusto/learning/toy_mlprecon.py:343: RuntimeWarning: overflow encountered in multiply\n",
      "  self.vv[iv] += -alpha * self.vv[ivj]\n",
      "/Users/GUSTO/environments/firedrake/src/gusto/learning/toy_mlprecon.py:343: RuntimeWarning: invalid value encountered in multiply\n",
      "  self.vv[iv] += -alpha * self.vv[ivj]\n",
      "/Users/GUSTO/environments/firedrake/src/gusto/learning/toy_mlprecon.py:343: RuntimeWarning: invalid value encountered in add\n",
      "  self.vv[iv] += -alpha * self.vv[ivj]\n"
     ]
    },
    {
     "ename": "SystemError",
     "evalue": "<method 'solve' of 'petsc4py.PETSc.KSP' objects> returned a result with an exception set",
     "output_type": "error",
     "traceback": [
      "\u001b[0;31m---------------------------------------------------------------------------\u001b[0m",
      "\u001b[0;31mError\u001b[0m                                     Traceback (most recent call last)",
      "File \u001b[0;32mpetsc4py/PETSc/PETSc.pyx:324\u001b[0m, in \u001b[0;36mpetsc4py.PETSc.PetscPythonErrorHandler\u001b[0;34m()\u001b[0m\n",
      "File \u001b[0;32mpetsc4py/PETSc/libpetsc4py.pyx:1782\u001b[0m, in \u001b[0;36mpetsc4py.PETSc.KSPSolve_Python\u001b[0;34m()\u001b[0m\n",
      "File \u001b[0;32m~/environments/firedrake/src/gusto/learning/toy_mlprecon.py:302\u001b[0m, in \u001b[0;36mGCR.solve\u001b[0;34m(self, ksp, b, x)\u001b[0m\n\u001b[1;32m    301\u001b[0m A, P \u001b[38;5;241m=\u001b[39m get_op_pc(ksp, transpose\u001b[38;5;241m=\u001b[39m\u001b[38;5;28;01mFalse\u001b[39;00m)\n\u001b[0;32m--> 302\u001b[0m \u001b[38;5;28;43mself\u001b[39;49m\u001b[38;5;241;43m.\u001b[39;49m\u001b[43mpgcr\u001b[49m\u001b[43m(\u001b[49m\u001b[43mksp\u001b[49m\u001b[43m,\u001b[49m\u001b[43m \u001b[49m\u001b[43mA\u001b[49m\u001b[43m,\u001b[49m\u001b[43m \u001b[49m\u001b[43mP\u001b[49m\u001b[43m,\u001b[49m\u001b[43m \u001b[49m\u001b[43mb\u001b[49m\u001b[43m,\u001b[49m\u001b[43m \u001b[49m\u001b[43mx\u001b[49m\u001b[43m,\u001b[49m\u001b[43m \u001b[49m\u001b[38;5;241;43m*\u001b[39;49m\u001b[38;5;28;43mself\u001b[39;49m\u001b[38;5;241;43m.\u001b[39;49m\u001b[43mwork\u001b[49m\u001b[43m)\u001b[49m\n",
      "File \u001b[0;32m~/environments/firedrake/src/gusto/learning/toy_mlprecon.py:331\u001b[0m, in \u001b[0;36mGCR.pgcr\u001b[0;34m(self, ksp, A, P, b, x, r, pv, v)\u001b[0m\n\u001b[1;32m    328\u001b[0m \u001b[38;5;66;03m#P(r, z)\u001b[39;00m\n\u001b[1;32m    329\u001b[0m \u001b[38;5;66;03m#delta = r.dot(z)\u001b[39;00m\n\u001b[1;32m    330\u001b[0m \u001b[38;5;66;03m#z.copy(p)\u001b[39;00m\n\u001b[0;32m--> 331\u001b[0m \u001b[38;5;28;01mwhile\u001b[39;00m \u001b[38;5;129;01mnot\u001b[39;00m \u001b[38;5;28;43mself\u001b[39;49m\u001b[38;5;241;43m.\u001b[39;49m\u001b[43mdo_loop\u001b[49m\u001b[43m(\u001b[49m\u001b[43mksp\u001b[49m\u001b[43m,\u001b[49m\u001b[43m \u001b[49m\u001b[43mr\u001b[49m\u001b[43m)\u001b[49m:\n\u001b[1;32m    332\u001b[0m     P(r, pv)\n",
      "File \u001b[0;32m~/environments/firedrake/src/gusto/learning/toy_mlprecon.py:312\u001b[0m, in \u001b[0;36mGCR.do_loop\u001b[0;34m(self, ksp, r)\u001b[0m\n\u001b[1;32m    311\u001b[0m rnorm \u001b[38;5;241m=\u001b[39m r\u001b[38;5;241m.\u001b[39mnorm()\n\u001b[0;32m--> 312\u001b[0m \u001b[43mksp\u001b[49m\u001b[38;5;241;43m.\u001b[39;49m\u001b[43msetResidualNorm\u001b[49m\u001b[43m(\u001b[49m\u001b[43mrnorm\u001b[49m\u001b[43m)\u001b[49m\n\u001b[1;32m    313\u001b[0m ksp\u001b[38;5;241m.\u001b[39mlogConvergenceHistory(rnorm)\n",
      "File \u001b[0;32mpetsc4py/PETSc/KSP.pyx:1737\u001b[0m, in \u001b[0;36mpetsc4py.PETSc.KSP.setResidualNorm\u001b[0;34m()\u001b[0m\n",
      "File \u001b[0;32mpetsc4py/PETSc/PETSc.pyx:79\u001b[0m, in \u001b[0;36mpetsc4py.PETSc.CHKERR\u001b[0;34m()\u001b[0m\n",
      "\u001b[0;31mError\u001b[0m: error code 63\n[0] KSPSolve_Private() at /Users/GUSTO/environments/firedrake/src/petsc/src/ksp/ksp/interface/itfunc.c:910\n[0] KSPSetResidualNorm() at src/lib-petsc/custom.h:314\n[0] Argument out of range\n[0] residual norm must be nonnegative",
      "\nThe above exception was the direct cause of the following exception:\n",
      "\u001b[0;31mSystemError\u001b[0m                               Traceback (most recent call last)",
      "Cell \u001b[0;32mIn[4], line 26\u001b[0m\n\u001b[1;32m     20\u001b[0m pc\u001b[38;5;241m.\u001b[39msetType(PETSc\u001b[38;5;241m.\u001b[39mPC\u001b[38;5;241m.\u001b[39mType\u001b[38;5;241m.\u001b[39mNONE) \u001b[38;5;66;03m#for reference runs without pc\u001b[39;00m\n\u001b[1;32m     21\u001b[0m     \u001b[38;5;66;03m#pc.setType(PETSc.PC.Type.SOR)  #for reference runs with SOR\u001b[39;00m\n\u001b[1;32m     22\u001b[0m     \u001b[38;5;66;03m#pc.setType(PETSc.PC.Type.PYTHON)\u001b[39;00m\n\u001b[1;32m     23\u001b[0m     \u001b[38;5;66;03m#pc.setPythonContext(ToyMLPreconditioner())\u001b[39;00m\n\u001b[1;32m     24\u001b[0m     \u001b[38;5;66;03m#pc.setPythonContext(Jacobi())\u001b[39;00m\n\u001b[0;32m---> 26\u001b[0m \u001b[43mksp\u001b[49m\u001b[38;5;241;43m.\u001b[39;49m\u001b[43msolve\u001b[49m\u001b[43m(\u001b[49m\u001b[43mB\u001b[49m\u001b[43m,\u001b[49m\u001b[43m \u001b[49m\u001b[43mX\u001b[49m\u001b[43m)\u001b[49m\n\u001b[1;32m     28\u001b[0m \u001b[38;5;66;03m# Print the solution vector\u001b[39;00m\n\u001b[1;32m     29\u001b[0m X_array \u001b[38;5;241m=\u001b[39m X\u001b[38;5;241m.\u001b[39mgetArray()\n",
      "\u001b[0;31mSystemError\u001b[0m: <method 'solve' of 'petsc4py.PETSc.KSP' objects> returned a result with an exception set"
     ]
    }
   ],
   "source": [
    "A, X, B = set_ops()\n",
    "# Create a linear solver context\n",
    "ksp = PETSc.KSP()\n",
    "ksp.create(comm=PETSc.COMM_WORLD)\n",
    "ksp.setType(PETSc.KSP.Type.PYTHON)\n",
    "ksp.setPythonContext(GCR())\n",
    "#ksp.setType(PETSc.KSP.Type.GCR)\n",
    "ksp.setTolerances(rtol=1e-5)\n",
    " #ksp.gcrSetRestart(100)\n",
    "ksp.setTolerances(max_it=150)\n",
    "\n",
    "# Set the operator (coefficient matrix) for the linear solver\n",
    "ksp.setOperators(A, A)\n",
    "ksp.setFromOptions()\n",
    "\n",
    "#define the pc so PETSc knows what to do when instantiating the ML context\n",
    "pc = ksp.getPC()\n",
    "\n",
    "# Set the preconditioner for the linear solver\n",
    "pc.setType(PETSc.PC.Type.NONE) #for reference runs without pc\n",
    "    #pc.setType(PETSc.PC.Type.SOR)  #for reference runs with SOR\n",
    "    #pc.setType(PETSc.PC.Type.PYTHON)\n",
    "    #pc.setPythonContext(ToyMLPreconditioner())\n",
    "    #pc.setPythonContext(Jacobi())\n",
    "\n",
    "ksp.solve(B, X)\n",
    "\n",
    "# Print the solution vector\n",
    "X_array = X.getArray()\n",
    "print(\"Solution vector X:\", X_array)\n",
    "\n",
    "# print error norm\n",
    "r = B.duplicate()\n",
    "A.mult(X, r)\n",
    "r.aypx(-1, B)\n",
    "rnorm = r.norm()\n",
    "PETSc.Sys.Print('error norm = %g' % rnorm,\n",
    "                comm=PETSc.COMM_WORLD)\n",
    "\n",
    "# Free resources\n",
    "ksp.destroy()\n",
    "A.destroy()\n",
    "X.destroy()\n",
    "B.destroy()\n",
    "\n",
    "plt.plot(X_array)\n",
    "plt.show()"
   ]
  },
  {
   "cell_type": "code",
   "execution_count": 23,
   "metadata": {},
   "outputs": [
    {
     "data": {
      "text/plain": [
       "[<matplotlib.lines.Line2D at 0x14d9d0130>]"
      ]
     },
     "execution_count": 23,
     "metadata": {},
     "output_type": "execute_result"
    },
    {
     "data": {
      "image/png": "[encoded data removed]",
      "text/plain": [
       "<Figure size 640x480 with 1 Axes>"
      ]
     },
     "metadata": {},
     "output_type": "display_data"
    }
   ],
   "source": [
    "plt.plot(ksp.getPythonContext().ppvv[2])"
   ]
  },
  {
   "cell_type": "code",
   "execution_count": null,
   "metadata": {},
   "outputs": [],
   "source": []
  }
 ],
 "metadata": {
  "kernelspec": {
   "display_name": "firedrake",
   "language": "python",
   "name": "python3"
  },
  "language_info": {
   "codemirror_mode": {
    "name": "ipython",
    "version": 3
   },
   "file_extension": ".py",
   "mimetype": "text/x-python",
   "name": "python",
   "nbconvert_exporter": "python",
   "pygments_lexer": "ipython3",
   "version": "3.10.12"
  }
 },
 "nbformat": 4,
 "nbformat_minor": 2
}
