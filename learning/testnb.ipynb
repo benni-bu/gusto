{
 "cells": [
  {
   "cell_type": "code",
   "execution_count": 24,
   "metadata": {},
   "outputs": [],
   "source": [
    "import torch \n",
    "import torch.nn as nn\n",
    "import numpy as np"
   ]
  },
  {
   "cell_type": "code",
   "execution_count": 41,
   "metadata": {},
   "outputs": [],
   "source": [
    "vec = np.random.rand(100, 100)\n",
    "tens = torch.tensor(vec, dtype=torch.float32)\n"
   ]
  },
  {
   "cell_type": "code",
   "execution_count": 47,
   "metadata": {},
   "outputs": [
    {
     "data": {
      "text/plain": [
       "torch.Size([100, 1, 100])"
      ]
     },
     "execution_count": 47,
     "metadata": {},
     "output_type": "execute_result"
    }
   ],
   "source": [
    "tens.shape"
   ]
  },
  {
   "cell_type": "code",
   "execution_count": 46,
   "metadata": {},
   "outputs": [],
   "source": [
    "tens = tens.unsqueeze(0)\n",
    "tens = tens.view(100, 1, 100)"
   ]
  },
  {
   "cell_type": "code",
   "execution_count": 48,
   "metadata": {},
   "outputs": [],
   "source": [
    "m = nn.Conv1d(1, 1, 3, stride=1)\n",
    "input = tens\n",
    "output = m(input)"
   ]
  },
  {
   "cell_type": "code",
   "execution_count": 49,
   "metadata": {},
   "outputs": [
    {
     "data": {
      "text/plain": [
       "tensor([[[0.1152, 0.5205, 0.1008,  ..., 0.0231, 0.6597, 0.6834]],\n",
       "\n",
       "        [[0.2905, 0.6571, 0.6863,  ..., 0.4016, 0.9902, 0.9242]],\n",
       "\n",
       "        [[0.6961, 0.8540, 0.0286,  ..., 0.6590, 0.5162, 0.6746]],\n",
       "\n",
       "        ...,\n",
       "\n",
       "        [[0.0995, 0.0725, 0.3040,  ..., 0.7772, 0.5344, 0.5492]],\n",
       "\n",
       "        [[0.7551, 0.6017, 0.4069,  ..., 0.5184, 0.4386, 0.8458]],\n",
       "\n",
       "        [[0.0800, 0.7508, 0.9315,  ..., 0.2652, 0.7418, 0.5739]]])"
      ]
     },
     "execution_count": 49,
     "metadata": {},
     "output_type": "execute_result"
    }
   ],
   "source": [
    "tens"
   ]
  },
  {
   "cell_type": "code",
   "execution_count": 50,
   "metadata": {},
   "outputs": [
    {
     "data": {
      "text/plain": [
       "tensor([[[0.5325, 0.4022, 0.5593,  ..., 0.3311, 0.4877, 0.6240]],\n",
       "\n",
       "        [[0.5495, 0.4049, 0.3687,  ..., 0.4581, 0.5973, 0.5571]],\n",
       "\n",
       "        [[0.3771, 0.3774, 0.6306,  ..., 0.5089, 0.3994, 0.4393]],\n",
       "\n",
       "        ...,\n",
       "\n",
       "        [[0.5385, 0.5281, 0.4986,  ..., 0.3643, 0.5154, 0.3942]],\n",
       "\n",
       "        [[0.3886, 0.4676, 0.4693,  ..., 0.6019, 0.3252, 0.4928]],\n",
       "\n",
       "        [[0.6374, 0.4551, 0.3614,  ..., 0.3062, 0.5694, 0.5486]]],\n",
       "       grad_fn=<ConvolutionBackward0>)"
      ]
     },
     "execution_count": 50,
     "metadata": {},
     "output_type": "execute_result"
    }
   ],
   "source": [
    "output"
   ]
  },
  {
   "cell_type": "code",
   "execution_count": null,
   "metadata": {},
   "outputs": [],
   "source": []
  }
 ],
 "metadata": {
  "kernelspec": {
   "display_name": "firedrake",
   "language": "python",
   "name": "python3"
  },
  "language_info": {
   "codemirror_mode": {
    "name": "ipython",
    "version": 3
   },
   "file_extension": ".py",
   "mimetype": "text/x-python",
   "name": "python",
   "nbconvert_exporter": "python",
   "pygments_lexer": "ipython3",
   "version": "3.10.12"
  }
 },
 "nbformat": 4,
 "nbformat_minor": 2
}
